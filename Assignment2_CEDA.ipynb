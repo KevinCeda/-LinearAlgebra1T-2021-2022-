{
  "nbformat": 4,
  "nbformat_minor": 0,
  "metadata": {
    "colab": {
      "name": "Assignment2_CEDA.ipynb",
      "provenance": [],
      "authorship_tag": "ABX9TyMlwWI2RgqrdPtA4Ez6sqaq",
      "include_colab_link": true
    },
    "kernelspec": {
      "name": "python3",
      "display_name": "Python 3"
    },
    "language_info": {
      "name": "python"
    }
  },
  "cells": [
    {
      "cell_type": "markdown",
      "metadata": {
        "id": "view-in-github",
        "colab_type": "text"
      },
      "source": [
        "<a href=\"https://colab.research.google.com/github/KevinCeda/-LinearAlgebra1T-2021-2022-/blob/main/Assignment2_CEDA.ipynb\" target=\"_parent\"><img src=\"https://colab.research.google.com/assets/colab-badge.svg\" alt=\"Open In Colab\"/></a>"
      ]
    },
    {
      "cell_type": "code",
      "metadata": {
        "id": "8bFCozRKAFiN"
      },
      "source": [
        ""
      ],
      "execution_count": null,
      "outputs": []
    },
    {
      "cell_type": "markdown",
      "metadata": {
        "id": "9gYdkh1eAUtR"
      },
      "source": [
        "### Welcome to Phython Fundamentals\n",
        "In this module, we are going to establish or skills in Python Programming. We are going to cover the following:\n",
        "\n",
        "*   Variables and Data types\n",
        "*   Operations\n",
        "*   Input and Output Operations\n",
        "*   Logic Controls\n",
        "*   Iterables\n",
        "*   Functions\n",
        "\n",
        "\n",
        "\n",
        "\n",
        "\n",
        "\n"
      ]
    },
    {
      "cell_type": "code",
      "metadata": {
        "id": "Xf-0TrJDBGFJ"
      },
      "source": [
        ""
      ],
      "execution_count": null,
      "outputs": []
    },
    {
      "cell_type": "markdown",
      "metadata": {
        "id": "VWWtzPSeBITC"
      },
      "source": [
        "###Variable and Data Types"
      ]
    },
    {
      "cell_type": "code",
      "metadata": {
        "colab": {
          "base_uri": "https://localhost:8080/"
        },
        "id": "qmBzZGIGBOgz",
        "outputId": "11cb7b5d-1146-4c60-ea06-18dff3f96ae9"
      },
      "source": [
        "x = 1\n",
        "a,b = 3,2\n",
        "type (x)"
      ],
      "execution_count": null,
      "outputs": [
        {
          "output_type": "execute_result",
          "data": {
            "text/plain": [
              "int"
            ]
          },
          "metadata": {},
          "execution_count": 1
        }
      ]
    },
    {
      "cell_type": "code",
      "metadata": {
        "colab": {
          "base_uri": "https://localhost:8080/"
        },
        "id": "XV5NuudOBprz",
        "outputId": "5281dbca-c902-40e9-f953-ab29a89cba79"
      },
      "source": [
        "y = 3.0\n",
        "type(y)\n"
      ],
      "execution_count": null,
      "outputs": [
        {
          "output_type": "execute_result",
          "data": {
            "text/plain": [
              "float"
            ]
          },
          "metadata": {},
          "execution_count": 2
        }
      ]
    },
    {
      "cell_type": "code",
      "metadata": {
        "colab": {
          "base_uri": "https://localhost:8080/"
        },
        "id": "JRY5Vlg5CHi6",
        "outputId": "47e77556-aaf7-4f1e-a6b7-78b3a00aff53"
      },
      "source": [
        "x = float(x)\n",
        "type(x)"
      ],
      "execution_count": null,
      "outputs": [
        {
          "output_type": "execute_result",
          "data": {
            "text/plain": [
              "float"
            ]
          },
          "metadata": {},
          "execution_count": 4
        }
      ]
    },
    {
      "cell_type": "code",
      "metadata": {
        "id": "7I-OyWK3CulS"
      },
      "source": [
        "s, t, u =\"1\" , '3'; 'three'\n",
        "type(u)"
      ],
      "execution_count": null,
      "outputs": []
    },
    {
      "cell_type": "markdown",
      "metadata": {
        "id": "gdBGiGmPC2KR"
      },
      "source": [
        "###Operations"
      ]
    },
    {
      "cell_type": "markdown",
      "metadata": {
        "id": "8ZYnCFs7vKwk"
      },
      "source": [
        "###Arithmetic"
      ]
    },
    {
      "cell_type": "code",
      "metadata": {
        "id": "TeVe7cekDq_5",
        "colab": {
          "base_uri": "https://localhost:8080/"
        },
        "outputId": "8018cabc-7279-47ba-ad6d-acacee31f4ba"
      },
      "source": [
        "w, x, y, z = 4.0, -3.0, 2, 32\n",
        "### Addition\n",
        "S = w + x\n",
        "S\n"
      ],
      "execution_count": null,
      "outputs": [
        {
          "output_type": "execute_result",
          "data": {
            "text/plain": [
              "1.0"
            ]
          },
          "metadata": {},
          "execution_count": 3
        }
      ]
    },
    {
      "cell_type": "code",
      "metadata": {
        "colab": {
          "base_uri": "https://localhost:8080/"
        },
        "id": "-ttiPYnkTOjd",
        "outputId": "ef3a2657-0b5e-450b-af19-56627667b243"
      },
      "source": [
        "### Subtraction\n",
        "D = y - z\n",
        "D"
      ],
      "execution_count": null,
      "outputs": [
        {
          "output_type": "execute_result",
          "data": {
            "text/plain": [
              "-30"
            ]
          },
          "metadata": {},
          "execution_count": 4
        }
      ]
    },
    {
      "cell_type": "code",
      "metadata": {
        "colab": {
          "base_uri": "https://localhost:8080/"
        },
        "id": "VGZJN5N1Tngv",
        "outputId": "aa2a6c9f-7eb9-4dcd-925d-8948f53f6b42"
      },
      "source": [
        "### Multiplication\n",
        "P = w*z\n",
        "P"
      ],
      "execution_count": null,
      "outputs": [
        {
          "output_type": "execute_result",
          "data": {
            "text/plain": [
              "128.0"
            ]
          },
          "metadata": {},
          "execution_count": 5
        }
      ]
    },
    {
      "cell_type": "code",
      "metadata": {
        "colab": {
          "base_uri": "https://localhost:8080/"
        },
        "id": "blKJAIYZTnf8",
        "outputId": "5845061f-267d-454e-bad0-7a165cfa7a5c"
      },
      "source": [
        "### Division\n",
        "Q =y/x\n",
        "Q"
      ],
      "execution_count": null,
      "outputs": [
        {
          "output_type": "execute_result",
          "data": {
            "text/plain": [
              "-0.6666666666666666"
            ]
          },
          "metadata": {},
          "execution_count": 6
        }
      ]
    },
    {
      "cell_type": "code",
      "metadata": {
        "colab": {
          "base_uri": "https://localhost:8080/"
        },
        "id": "IfrUD350UGIL",
        "outputId": "e0fa483b-eb59-4304-ed1c-840bef75f87d"
      },
      "source": [
        "### Floor Division\n",
        "E = w**w\n",
        "E"
      ],
      "execution_count": null,
      "outputs": [
        {
          "output_type": "execute_result",
          "data": {
            "text/plain": [
              "256.0"
            ]
          },
          "metadata": {},
          "execution_count": 7
        }
      ]
    },
    {
      "cell_type": "code",
      "metadata": {
        "colab": {
          "base_uri": "https://localhost:8080/"
        },
        "id": "Pr5R2fK8URgi",
        "outputId": "de5eafd5-cae3-4e33-d554-b458e45ea476"
      },
      "source": [
        "### Modulo\n",
        "mod = z%x\n",
        "mod"
      ],
      "execution_count": null,
      "outputs": [
        {
          "output_type": "execute_result",
          "data": {
            "text/plain": [
              "-1.0"
            ]
          },
          "metadata": {},
          "execution_count": 8
        }
      ]
    },
    {
      "cell_type": "markdown",
      "metadata": {
        "id": "cfkTV9AlUlRb"
      },
      "source": [
        "###Assignment"
      ]
    },
    {
      "cell_type": "code",
      "metadata": {
        "colab": {
          "base_uri": "https://localhost:8080/"
        },
        "id": "JVyl9E0JUmw8",
        "outputId": "aa8073d8-cec1-45fd-9484-f4d528f3b996"
      },
      "source": [
        "A, B, C, D, E = 0, 100, 2, 1, 2\n",
        "A += w\n",
        "A"
      ],
      "execution_count": null,
      "outputs": [
        {
          "output_type": "execute_result",
          "data": {
            "text/plain": [
              "4.0"
            ]
          },
          "metadata": {},
          "execution_count": 14
        }
      ]
    },
    {
      "cell_type": "code",
      "metadata": {
        "colab": {
          "base_uri": "https://localhost:8080/"
        },
        "id": "jnfp6_NGV2HG",
        "outputId": "84c77ed8-64cd-49c5-adc7-be3f17997d74"
      },
      "source": [
        "B -= x\n",
        "B"
      ],
      "execution_count": null,
      "outputs": [
        {
          "output_type": "execute_result",
          "data": {
            "text/plain": [
              "106.0"
            ]
          },
          "metadata": {},
          "execution_count": 16
        }
      ]
    },
    {
      "cell_type": "code",
      "metadata": {
        "colab": {
          "base_uri": "https://localhost:8080/"
        },
        "id": "q9zAIz1JV6n-",
        "outputId": "fc5aff03-9a2c-4449-a774-7778641956ff"
      },
      "source": [
        "C *= w\n",
        "C"
      ],
      "execution_count": null,
      "outputs": [
        {
          "output_type": "execute_result",
          "data": {
            "text/plain": [
              "8.0"
            ]
          },
          "metadata": {},
          "execution_count": 12
        }
      ]
    },
    {
      "cell_type": "code",
      "metadata": {
        "colab": {
          "base_uri": "https://localhost:8080/"
        },
        "id": "cfiCuslzWBAH",
        "outputId": "6edcb45c-ea68-453e-a382-b9e76c02d9ba"
      },
      "source": [
        "D /= x\n",
        "D"
      ],
      "execution_count": null,
      "outputs": [
        {
          "output_type": "execute_result",
          "data": {
            "text/plain": [
              "-0.3333333333333333"
            ]
          },
          "metadata": {},
          "execution_count": 13
        }
      ]
    },
    {
      "cell_type": "code",
      "metadata": {
        "colab": {
          "base_uri": "https://localhost:8080/"
        },
        "id": "REg2Lz6IWvs9",
        "outputId": "e43fe6a2-1aea-4303-8683-b20aae5b3a30"
      },
      "source": [
        "E **= y\n",
        "E"
      ],
      "execution_count": null,
      "outputs": [
        {
          "output_type": "execute_result",
          "data": {
            "text/plain": [
              "4"
            ]
          },
          "metadata": {},
          "execution_count": 17
        }
      ]
    },
    {
      "cell_type": "markdown",
      "metadata": {
        "id": "rSKYpjNUXcyL"
      },
      "source": [
        "###Comparators"
      ]
    },
    {
      "cell_type": "code",
      "metadata": {
        "colab": {
          "base_uri": "https://localhost:8080/"
        },
        "id": "p8Zj96WjXg6D",
        "outputId": "c7081a6f-dc1a-4963-c263-24ab247b0146"
      },
      "source": [
        "size_1, size_2, size_3 = 1, 2.0, \"1\"\n",
        "true_size = 1.0\n",
        "## Equality\n",
        "size_1 == true_size"
      ],
      "execution_count": null,
      "outputs": [
        {
          "output_type": "execute_result",
          "data": {
            "text/plain": [
              "True"
            ]
          },
          "metadata": {},
          "execution_count": 21
        }
      ]
    },
    {
      "cell_type": "code",
      "metadata": {
        "colab": {
          "base_uri": "https://localhost:8080/"
        },
        "id": "Zv8_Zjk2qSri",
        "outputId": "6dbe555a-8bc4-4a6e-9013-d7d8cd798feb"
      },
      "source": [
        "## Non- Equality\n",
        "size_2 != true_size"
      ],
      "execution_count": null,
      "outputs": [
        {
          "output_type": "execute_result",
          "data": {
            "text/plain": [
              "True"
            ]
          },
          "metadata": {},
          "execution_count": 22
        }
      ]
    },
    {
      "cell_type": "code",
      "metadata": {
        "id": "dh5r66rFqZPJ"
      },
      "source": [
        "## Inequality\n",
        "s1 = size_1 > size_2\n",
        "s2 = size_1 < size_2/2\n",
        "s3 = true_size >= size_1\n",
        "s4 = size_2 <= true_size"
      ],
      "execution_count": null,
      "outputs": []
    },
    {
      "cell_type": "markdown",
      "metadata": {
        "id": "wez4ziQLqelD"
      },
      "source": [
        "###Logical"
      ]
    },
    {
      "cell_type": "code",
      "metadata": {
        "colab": {
          "base_uri": "https://localhost:8080/"
        },
        "id": "4hyFOJtbqir4",
        "outputId": "6fb482e8-283c-43f2-b220-bd42213ce656"
      },
      "source": [
        "size_1 == true_size"
      ],
      "execution_count": null,
      "outputs": [
        {
          "output_type": "execute_result",
          "data": {
            "text/plain": [
              "True"
            ]
          },
          "metadata": {},
          "execution_count": 56
        }
      ]
    },
    {
      "cell_type": "code",
      "metadata": {
        "colab": {
          "base_uri": "https://localhost:8080/"
        },
        "id": "-bHVoel0qnFo",
        "outputId": "b8033a86-be1a-44a9-896e-bd660f457942"
      },
      "source": [
        "size_1 is true_size"
      ],
      "execution_count": null,
      "outputs": [
        {
          "output_type": "execute_result",
          "data": {
            "text/plain": [
              "False"
            ]
          },
          "metadata": {},
          "execution_count": 50
        }
      ]
    },
    {
      "cell_type": "code",
      "metadata": {
        "colab": {
          "base_uri": "https://localhost:8080/"
        },
        "id": "kI_Mu-c5qqqw",
        "outputId": "d0807ea9-6d38-48e9-8adc-ac1b60204225"
      },
      "source": [
        "size_1 is not true_size"
      ],
      "execution_count": null,
      "outputs": [
        {
          "output_type": "execute_result",
          "data": {
            "text/plain": [
              "True"
            ]
          },
          "metadata": {},
          "execution_count": 51
        }
      ]
    },
    {
      "cell_type": "code",
      "metadata": {
        "colab": {
          "base_uri": "https://localhost:8080/"
        },
        "id": "9d3-VDjnq1SP",
        "outputId": "26a5672f-8445-4a2c-9df9-96041ef90b02"
      },
      "source": [
        "P, Q = True, False\n",
        "conj = P and Q\n",
        "conj"
      ],
      "execution_count": null,
      "outputs": [
        {
          "output_type": "execute_result",
          "data": {
            "text/plain": [
              "False"
            ]
          },
          "metadata": {},
          "execution_count": 52
        }
      ]
    },
    {
      "cell_type": "code",
      "metadata": {
        "colab": {
          "base_uri": "https://localhost:8080/"
        },
        "id": "AkGkxneiq34v",
        "outputId": "cf4d0b01-e3f1-4e05-c607-ad5a4e7071d7"
      },
      "source": [
        "disj = P or Q\n",
        "disj"
      ],
      "execution_count": null,
      "outputs": [
        {
          "output_type": "execute_result",
          "data": {
            "text/plain": [
              "True"
            ]
          },
          "metadata": {},
          "execution_count": 53
        }
      ]
    },
    {
      "cell_type": "code",
      "metadata": {
        "colab": {
          "base_uri": "https://localhost:8080/"
        },
        "id": "5BKdCAe9q6BQ",
        "outputId": "2a19441a-b8d2-4646-fc44-df09371b95df"
      },
      "source": [
        "nand = not(P and Q)\n",
        "nand"
      ],
      "execution_count": null,
      "outputs": [
        {
          "output_type": "execute_result",
          "data": {
            "text/plain": [
              "True"
            ]
          },
          "metadata": {},
          "execution_count": 54
        }
      ]
    },
    {
      "cell_type": "code",
      "metadata": {
        "colab": {
          "base_uri": "https://localhost:8080/"
        },
        "id": "rG9VPTaIq9QP",
        "outputId": "7a190191-88f4-46bb-afb1-16e6a7021f9d"
      },
      "source": [
        "xor = (not P and Q) or (P and not Q)\n",
        "xor"
      ],
      "execution_count": null,
      "outputs": [
        {
          "output_type": "execute_result",
          "data": {
            "text/plain": [
              "True"
            ]
          },
          "metadata": {},
          "execution_count": 55
        }
      ]
    },
    {
      "cell_type": "markdown",
      "metadata": {
        "id": "6E-bHLt-rElW"
      },
      "source": [
        "###Input and Output"
      ]
    },
    {
      "cell_type": "code",
      "metadata": {
        "colab": {
          "base_uri": "https://localhost:8080/"
        },
        "id": "lXcld2M2rEGm",
        "outputId": "f738665c-374e-4640-f301-e3c07dae1683"
      },
      "source": [
        "print(\"Hello World!\")"
      ],
      "execution_count": null,
      "outputs": [
        {
          "output_type": "stream",
          "name": "stdout",
          "text": [
            "Hello World!\n"
          ]
        }
      ]
    },
    {
      "cell_type": "code",
      "metadata": {
        "id": "lLQ6nlpVrL90"
      },
      "source": [
        "cnt = 1"
      ],
      "execution_count": null,
      "outputs": []
    },
    {
      "cell_type": "code",
      "metadata": {
        "colab": {
          "base_uri": "https://localhost:8080/"
        },
        "id": "Wvv3lmTQrL9F",
        "outputId": "750bc636-1939-43f2-d49d-b404e94c2acb"
      },
      "source": [
        "string = \"Hello World!\"\n",
        "print(string,\" Current COVID count is:\", cnt)\n",
        "cnt += 1000"
      ],
      "execution_count": null,
      "outputs": [
        {
          "output_type": "stream",
          "name": "stdout",
          "text": [
            "Hello World!  Current COVID count is: 1\n"
          ]
        }
      ]
    },
    {
      "cell_type": "code",
      "metadata": {
        "colab": {
          "base_uri": "https://localhost:8080/"
        },
        "id": "EDJqkXZyrUvG",
        "outputId": "54cd6bba-a299-4982-fa95-8ac3a96ed4d2"
      },
      "source": [
        "print(f\"{string}, current count is: {cnt}\")"
      ],
      "execution_count": null,
      "outputs": [
        {
          "output_type": "stream",
          "name": "stdout",
          "text": [
            "Hello World!, current count is: 1001\n"
          ]
        }
      ]
    },
    {
      "cell_type": "code",
      "metadata": {
        "colab": {
          "base_uri": "https://localhost:8080/"
        },
        "id": "uZy1MZesrbI5",
        "outputId": "0aa5182b-c065-4bc8-e42f-5f85aba6c977"
      },
      "source": [
        "sem_grade = 86.25\n",
        "name = \"Eugene\"\n",
        "print(\"Hello {}, your semestral grade is: {}\".format(name, sem_grade))"
      ],
      "execution_count": null,
      "outputs": [
        {
          "output_type": "stream",
          "name": "stdout",
          "text": [
            "Hello Eugene, your semestral grade is: 86.25\n"
          ]
        }
      ]
    },
    {
      "cell_type": "code",
      "metadata": {
        "colab": {
          "base_uri": "https://localhost:8080/"
        },
        "id": "UWj5701gsCI2",
        "outputId": "777a714b-fe09-46fc-cb59-6b4421894525"
      },
      "source": [
        "pg, mg, fg = 0.3, 0.3, 0.4\n",
        "print(\"The weights of your semestral grades are:\\\n",
        "\\n\\t {:.2%} for Prelims\\\n",
        "\\n\\t {:.2%} for Midterms, and\\\n",
        "\\n\\t {:.2%} for Finals.\".format(pg, mg, fg))"
      ],
      "execution_count": null,
      "outputs": [
        {
          "output_type": "stream",
          "name": "stdout",
          "text": [
            "The weights of your semestral grades are:\n",
            "\t 30.00% for Prelims\n",
            "\t 30.00% for Midterms, and\n",
            "\t 40.00% for Finals.\n"
          ]
        }
      ]
    },
    {
      "cell_type": "code",
      "metadata": {
        "colab": {
          "base_uri": "https://localhost:8080/",
          "height": 55
        },
        "id": "b52OfCRWsHyD",
        "outputId": "df8ca3f9-dfd5-4adc-9c19-0736312869c5"
      },
      "source": [
        "e = input(\"Enter a number\")\n",
        "e"
      ],
      "execution_count": null,
      "outputs": [
        {
          "name": "stdout",
          "output_type": "stream",
          "text": [
            "Enter a number1\n"
          ]
        },
        {
          "output_type": "execute_result",
          "data": {
            "application/vnd.google.colaboratory.intrinsic+json": {
              "type": "string"
            },
            "text/plain": [
              "'1'"
            ]
          },
          "metadata": {},
          "execution_count": 38
        }
      ]
    },
    {
      "cell_type": "code",
      "metadata": {
        "colab": {
          "base_uri": "https://localhost:8080/"
        },
        "id": "maGyvyZ-sLod",
        "outputId": "13fd6aa4-0407-43c1-e5be-450cd1e83d40"
      },
      "source": [
        "name = input(\"Enter your name: \")\n",
        "pg = input(\"Enter prelim grade: \")\n",
        "mg = input(\"Enter midterm grade: \")\n",
        "fg = input(\"Enter final grade: \")\n",
        "sem_grade = None\n",
        "print(\"Hello {}, your semestral grade is {}\".format(name, sem_grade))"
      ],
      "execution_count": null,
      "outputs": [
        {
          "output_type": "stream",
          "name": "stdout",
          "text": [
            "Enter your name: Kevin\n",
            "Enter prelim grade: 3.0\n",
            "Enter midterm grade: 3.0\n",
            "Enter final grade: 3.0\n",
            "Hello Kevin, your semestral grade is None\n"
          ]
        }
      ]
    },
    {
      "cell_type": "markdown",
      "metadata": {
        "id": "owYtZZiysca0"
      },
      "source": [
        "###Looping Statements"
      ]
    },
    {
      "cell_type": "markdown",
      "metadata": {
        "id": "tv9lA66Bsu3c"
      },
      "source": [
        "#While loops"
      ]
    },
    {
      "cell_type": "code",
      "metadata": {
        "colab": {
          "base_uri": "https://localhost:8080/"
        },
        "id": "Wz0xS3ULsynK",
        "outputId": "d2c769f7-61a4-439c-c1cc-3d458a280657"
      },
      "source": [
        "## while loops\n",
        "i, j = 0 , 10\n",
        "while (i<=j):\n",
        "    print(f\"{i}\\t|\\t{j}\")\n",
        "    i += 1"
      ],
      "execution_count": null,
      "outputs": [
        {
          "output_type": "stream",
          "name": "stdout",
          "text": [
            "0\t|\t10\n",
            "1\t|\t10\n",
            "2\t|\t10\n",
            "3\t|\t10\n",
            "4\t|\t10\n",
            "5\t|\t10\n",
            "6\t|\t10\n",
            "7\t|\t10\n",
            "8\t|\t10\n",
            "9\t|\t10\n",
            "10\t|\t10\n"
          ]
        }
      ]
    },
    {
      "cell_type": "markdown",
      "metadata": {
        "id": "EQ8WbMf8tIxJ"
      },
      "source": [
        "###For"
      ]
    },
    {
      "cell_type": "code",
      "metadata": {
        "colab": {
          "base_uri": "https://localhost:8080/"
        },
        "id": "OYrHEH8BtKwq",
        "outputId": "6ab21234-faa5-42f7-a59e-5946c2c69e6f"
      },
      "source": [
        "# for(int = 0; i<=10; i++){\n",
        "# print(i)\n",
        "# }\n",
        "\n",
        "i = 0\n",
        "for i in range(11):\n",
        "  print(i)"
      ],
      "execution_count": null,
      "outputs": [
        {
          "output_type": "stream",
          "name": "stdout",
          "text": [
            "0\n",
            "1\n",
            "2\n",
            "3\n",
            "4\n",
            "5\n",
            "6\n",
            "7\n",
            "8\n",
            "9\n",
            "10\n"
          ]
        }
      ]
    },
    {
      "cell_type": "code",
      "metadata": {
        "colab": {
          "base_uri": "https://localhost:8080/"
        },
        "id": "2FBiXM7GtVwQ",
        "outputId": "35d3af35-3cf3-4605-ea63-0813c555fce4"
      },
      "source": [
        "playlist = [\"Bahay Kubo\", \"Magandang Kanta\", \"Buko\"]\n",
        "print('Now Playing:\\n')\n",
        "for song in playlist:\n",
        "      print(song)"
      ],
      "execution_count": null,
      "outputs": [
        {
          "output_type": "stream",
          "name": "stdout",
          "text": [
            "Now Playing:\n",
            "\n",
            "Bahay Kubo\n",
            "Magandang Kanta\n",
            "Buko\n"
          ]
        }
      ]
    },
    {
      "cell_type": "markdown",
      "metadata": {
        "id": "iGvxAOHSuI1o"
      },
      "source": [
        "###Flow Control"
      ]
    },
    {
      "cell_type": "markdown",
      "metadata": {
        "id": "O0Q7flb4uSbH"
      },
      "source": [
        "##Conditional Statements"
      ]
    },
    {
      "cell_type": "code",
      "metadata": {
        "colab": {
          "base_uri": "https://localhost:8080/"
        },
        "id": "DgR00_RTuW1w",
        "outputId": "0a5806de-14b9-4edd-b64a-5c2e672f1755"
      },
      "source": [
        "num_1, num_2 = 12, 12\n",
        "if(num_1 == num_2):\n",
        "    print(\"HAHA\")\n",
        "elif(num_1>num_2):\n",
        "    print(\"HOHO\")\n",
        "else:\n",
        "    print(\"HUHU\")"
      ],
      "execution_count": null,
      "outputs": [
        {
          "output_type": "stream",
          "name": "stdout",
          "text": [
            "HAHA\n"
          ]
        }
      ]
    },
    {
      "cell_type": "markdown",
      "metadata": {
        "id": "jR3XOP4PuIz_"
      },
      "source": [
        "#Functions"
      ]
    },
    {
      "cell_type": "code",
      "metadata": {
        "id": "JxGgU_gAugNl"
      },
      "source": [
        "#void DeleteUser (int userid){\n",
        "#   delete(userid):\n",
        "#}\n",
        "\n",
        "def delete_user (userid):\n",
        "    print(\"Successfully deleted user: {}\".format(userid))"
      ],
      "execution_count": null,
      "outputs": []
    },
    {
      "cell_type": "code",
      "metadata": {
        "colab": {
          "base_uri": "https://localhost:8080/"
        },
        "id": "REytWGogulIN",
        "outputId": "19111ce3-4612-47c2-c1f3-6b4a84f8109d"
      },
      "source": [
        "userid = 2020_100100\n",
        "delete_user(2020_100100)"
      ],
      "execution_count": null,
      "outputs": [
        {
          "output_type": "stream",
          "name": "stdout",
          "text": [
            "Successfully deleted user: 2020100100\n"
          ]
        }
      ]
    },
    {
      "cell_type": "code",
      "metadata": {
        "id": "npVJfAPnury1"
      },
      "source": [
        "addend1, addend2 = 5, 6"
      ],
      "execution_count": null,
      "outputs": []
    },
    {
      "cell_type": "code",
      "metadata": {
        "id": "1KgInFtTusy4"
      },
      "source": [
        "def add(addend1, addend2):\n",
        "  sum = addend1 + addend2\n",
        "  return sum"
      ],
      "execution_count": null,
      "outputs": []
    },
    {
      "cell_type": "code",
      "metadata": {
        "colab": {
          "base_uri": "https://localhost:8080/"
        },
        "id": "YqnowjTIuyzE",
        "outputId": "726ce933-24a6-4cad-9eef-f2632fb20cad"
      },
      "source": [
        "add(3, 4)"
      ],
      "execution_count": null,
      "outputs": [
        {
          "output_type": "execute_result",
          "data": {
            "text/plain": [
              "7"
            ]
          },
          "metadata": {},
          "execution_count": 48
        }
      ]
    }
  ]
}