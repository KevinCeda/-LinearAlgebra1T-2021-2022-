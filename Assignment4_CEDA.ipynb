{
  "nbformat": 4,
  "nbformat_minor": 0,
  "metadata": {
    "colab": {
      "name": "Assignment4_CEDA.ipynb",
      "provenance": [],
      "authorship_tag": "ABX9TyPBoTXUWotQpvSjFtVGj3q7",
      "include_colab_link": true
    },
    "kernelspec": {
      "name": "python3",
      "display_name": "Python 3"
    },
    "language_info": {
      "name": "python"
    }
  },
  "cells": [
    {
      "cell_type": "markdown",
      "metadata": {
        "id": "view-in-github",
        "colab_type": "text"
      },
      "source": [
        "<a href=\"https://colab.research.google.com/github/KevinCeda/-LinearAlgebra1T-2021-2022-/blob/main/Assignment4_CEDA.ipynb\" target=\"_parent\"><img src=\"https://colab.research.google.com/assets/colab-badge.svg\" alt=\"Open In Colab\"/></a>"
      ]
    },
    {
      "cell_type": "markdown",
      "metadata": {
        "id": "49_Ei9nbeHuc"
      },
      "source": [
        "##Linear Algebra for ECE\n",
        "##Laboratory 4: Matrices\n",
        " Now that you have a fundamental knowledge about Python, we'll try to look into greater dimensions."
      ]
    },
    {
      "cell_type": "markdown",
      "metadata": {
        "id": "km2fA5n9zH-O"
      },
      "source": [
        "##Objectives\n",
        "At the end of this activity you will be able to:\n",
        "\n",
        "    \n",
        "\n",
        "*   Be familiar with matrices and their relation to linear equations.\n",
        "*   Perform basic matrix operations.\n",
        "\n",
        "*   Program and translate matrix equations and operations using Python.\n",
        "\n",
        "\n",
        "\n",
        "\n",
        "\n"
      ]
    },
    {
      "cell_type": "markdown",
      "metadata": {
        "id": "vvUvZDF8eKCL"
      },
      "source": [
        "##Discussion "
      ]
    },
    {
      "cell_type": "code",
      "metadata": {
        "id": "ZF0e7TKDeM57"
      },
      "source": [
        "import numpy as np\n",
        "import matplotlib.pyplot as plt\n",
        "import scipy.linalg as la\n",
        "%matplotlib inline"
      ],
      "execution_count": 1,
      "outputs": []
    },
    {
      "cell_type": "markdown",
      "metadata": {
        "id": "Cnwg0VIPeRLS"
      },
      "source": [
        "##Matrices\n",
        "Matrices can be utilized to minimally compose and work with multiple linear equations, alluded to as an system of linear equations, simultaneously. Matrices and matrix multiplication reveal their fundamental provisions when identified with transformations or also known as linear maps."
      ]
    },
    {
      "cell_type": "markdown",
      "metadata": {
        "id": "8n4ppjFvecrZ"
      },
      "source": [
        "$$\n",
        "A = \\left\\{\n",
        "    \\begin{array}\\\n",
        "        x + y \\\\ \n",
        "        4x - 10y\n",
        "    \\end{array}\n",
        "\\right. \\\\\n",
        "B = \\left\\{\n",
        "    \\begin{array}\\\n",
        "        x+y+z \\\\ \n",
        "        3x -2y -z \\\\\n",
        "        -x + 4y +2z\n",
        "    \\end{array}\n",
        "\\right. $$"
      ]
    },
    {
      "cell_type": "markdown",
      "metadata": {
        "id": "IY_JvHEFed06"
      },
      "source": [
        "$$\n",
        "A=\\begin{bmatrix} 1 & 1 \\\\ 4 & {-10}\\end{bmatrix} \\\\\n",
        "B=\\begin{bmatrix} 1 & 1 & 1 \\\\ 3 & -2 & -1 \\\\ -1 & 4 & 2\\end{bmatrix}\n",
        "$$"
      ]
    },
    {
      "cell_type": "markdown",
      "metadata": {
        "id": "c70N-zY1epzK"
      },
      "source": [
        "##Declaring Matrices\n",
        "Very much like in our previous lab activity, we'll address system of linear equations as a matrix. The elements or numbers in networks are known as the components of a matrix. These elements are ordered or arranged in columns and rows which structure the array construction of matrices. This can be reprsented just like the equation below. Whereas $A$ is a matrix consisting of elements denoted by $a_{i,j}$. Denoted by $i$ is the number of rows in the matrix while $j$ stands for the number of columns.\n",
        "Do note that the $size$ of a matrix is $i\\times j$."
      ]
    },
    {
      "cell_type": "markdown",
      "metadata": {
        "id": "pH3j2VYaexbq"
      },
      "source": [
        "$$A=\\begin{bmatrix}\n",
        "a_{(0,0)}&a_{(0,1)}&\\dots&a_{(0,j-1)}\\\\\n",
        "a_{(1,0)}&a_{(1,1)}&\\dots&a_{(1,j-1)}\\\\\n",
        "\\vdots&\\vdots&\\ddots&\\vdots&\\\\\n",
        "a_{(i-1,0)}&a_{(i-1,1)}&\\dots&a_{(i-1,j-1)}\n",
        "\\end{bmatrix}\n",
        "$$"
      ]
    },
    {
      "cell_type": "markdown",
      "metadata": {
        "id": "NDfjCDxEe3EK"
      },
      "source": [
        "We already gone over some of the types of matrices but we'll further discuss them in this laboratory activity. Since you already know theorectically what are the shape,dimensions and size attributes of the matrices, we will do it in this platform."
      ]
    },
    {
      "cell_type": "code",
      "metadata": {
        "id": "MyB0RwNlewGq"
      },
      "source": [
        "def describe_mat(matrix):\n",
        "    print(f'Matrix:\\n{matrix}\\n\\nShape:\\t{matrix.shape}\\nRank:\\t{matrix.ndim}\\n')"
      ],
      "execution_count": 2,
      "outputs": []
    },
    {
      "cell_type": "code",
      "metadata": {
        "colab": {
          "base_uri": "https://localhost:8080/"
        },
        "id": "0LGyIYfWfEXa",
        "outputId": "48bf7ed3-e8a1-40dc-fe39-79b6a0e02f2c"
      },
      "source": [
        "A = np.array([\n",
        "      [1, 2],\n",
        "      [3, 10]        \n",
        "])\n",
        "describe_mat(A)"
      ],
      "execution_count": 3,
      "outputs": [
        {
          "output_type": "stream",
          "name": "stdout",
          "text": [
            "Matrix:\n",
            "[[ 1  2]\n",
            " [ 3 10]]\n",
            "\n",
            "Shape:\t(2, 2)\n",
            "Rank:\t2\n",
            "\n"
          ]
        }
      ]
    },
    {
      "cell_type": "code",
      "metadata": {
        "colab": {
          "base_uri": "https://localhost:8080/"
        },
        "id": "fjkHBlJKfO8y",
        "outputId": "5fff0372-3a00-4df3-d416-0e3565cc3b36"
      },
      "source": [
        "B = np.array([[\n",
        "      [8, 2],\n",
        "      [5, 4],\n",
        "      [7, 7]        \n",
        "]])\n",
        "describe_mat(B)"
      ],
      "execution_count": 4,
      "outputs": [
        {
          "output_type": "stream",
          "name": "stdout",
          "text": [
            "Matrix:\n",
            "[[[8 2]\n",
            "  [5 4]\n",
            "  [7 7]]]\n",
            "\n",
            "Shape:\t(1, 3, 2)\n",
            "Rank:\t3\n",
            "\n"
          ]
        }
      ]
    },
    {
      "cell_type": "code",
      "metadata": {
        "colab": {
          "base_uri": "https://localhost:8080/"
        },
        "id": "H_VxVqev-ldC",
        "outputId": "5a015f74-3186-4511-e97a-20b7f805b5e1"
      },
      "source": [
        "G = np.array([\n",
        "    [1,1],\n",
        "    [2,2]\n",
        "])\n",
        "describe_mat(G)"
      ],
      "execution_count": 5,
      "outputs": [
        {
          "output_type": "stream",
          "name": "stdout",
          "text": [
            "Matrix:\n",
            "[[1 1]\n",
            " [2 2]]\n",
            "\n",
            "Shape:\t(2, 2)\n",
            "Rank:\t2\n",
            "\n"
          ]
        }
      ]
    },
    {
      "cell_type": "code",
      "metadata": {
        "colab": {
          "base_uri": "https://localhost:8080/"
        },
        "id": "AK9ffplb-rbB",
        "outputId": "2cbfacec-fac8-45d7-a21d-878feedc33f4"
      },
      "source": [
        "H = np.array([1,2,3,4,5])\n",
        "describe_mat(H)"
      ],
      "execution_count": 6,
      "outputs": [
        {
          "output_type": "stream",
          "name": "stdout",
          "text": [
            "Matrix:\n",
            "[1 2 3 4 5]\n",
            "\n",
            "Shape:\t(5,)\n",
            "Rank:\t1\n",
            "\n"
          ]
        }
      ]
    },
    {
      "cell_type": "markdown",
      "metadata": {
        "id": "9v8seVQB-xET"
      },
      "source": [
        "##Categorizing Matrices\n",
        "Matrixes can be classified in a variety of ways.\n",
        "One may be based on their shape, while the other could be based on their element values. \n",
        "\n",
        "**Row and Column Matrices**\n",
        "In vector and matrix computations, row and column matrices are frequent.\n",
        "They can also be used to represent the rows and columns of a larger vector space.\n",
        "A single column or row is used to depict row and column matrices.\n"
      ]
    },
    {
      "cell_type": "code",
      "metadata": {
        "colab": {
          "base_uri": "https://localhost:8080/"
        },
        "id": "m1a4mCzUAepk",
        "outputId": "1397b709-a56f-4b24-dbd1-663e5bb63377"
      },
      "source": [
        "## Declaring a Row Matrix\n",
        "\n",
        "row_mat_1D = np.array([\n",
        "    1, 3, 2\n",
        "]) ## this is a 1-D Matrix with a shape of (3,), it's not really considered as a row matrix.\n",
        "row_mat_2D = np.array([\n",
        "    [1,2,3]\n",
        "]) ## this is a 2-D Matrix with a shape of (1,3)\n",
        "describe_mat(row_mat_1D)\n",
        "describe_mat(row_mat_2D)"
      ],
      "execution_count": null,
      "outputs": [
        {
          "output_type": "stream",
          "name": "stdout",
          "text": [
            "Matrix:\n",
            "[1 3 2]\n",
            "\n",
            "Shape:\t(3,)\n",
            "Rank:\t1\n",
            "\n",
            "Matrix:\n",
            "[[1 2 3]]\n",
            "\n",
            "Shape:\t(1, 3)\n",
            "Rank:\t2\n",
            "\n"
          ]
        }
      ]
    },
    {
      "cell_type": "code",
      "metadata": {
        "colab": {
          "base_uri": "https://localhost:8080/"
        },
        "id": "b3DLVW2NAlgS",
        "outputId": "ed5d7095-6286-4e17-a326-71e71b5803f7"
      },
      "source": [
        "## Declaring a Column Matrix\n",
        "\n",
        "col_mat = np.array([\n",
        "    [1],\n",
        "    [2],\n",
        "    [5]\n",
        "]) ## this is a 2-D Matrix with a shape of (3,1)\n",
        "describe_mat(col_mat)"
      ],
      "execution_count": null,
      "outputs": [
        {
          "output_type": "stream",
          "name": "stdout",
          "text": [
            "Matrix:\n",
            "[[1]\n",
            " [2]\n",
            " [5]]\n",
            "\n",
            "Shape:\t(3, 1)\n",
            "Rank:\t2\n",
            "\n"
          ]
        }
      ]
    },
    {
      "cell_type": "markdown",
      "metadata": {
        "id": "D9EXhu_B5qR4"
      },
      "source": [
        "##Square Matrices\n",
        "Matrixes with the same row and column sizes are known as square matrices.\n",
        "If $I = j$, a matrix is said to be square.\n",
        "To find square matrices, we can change our matrix descriptor function. "
      ]
    },
    {
      "cell_type": "code",
      "metadata": {
        "id": "P0-LEOk-fbor"
      },
      "source": [
        "def describe_mat(matrix):\n",
        "    is_square = True if matrix.shape[0] == matrix.shape[1] else False\n",
        "    print(f'Matrix:\\n{matrix}\\n\\nShape:\\t{matrix.shape}\\nRank:\\t{matrix.ndim}\\nIs Square:{is_square}\\n')"
      ],
      "execution_count": 7,
      "outputs": []
    },
    {
      "cell_type": "code",
      "metadata": {
        "colab": {
          "base_uri": "https://localhost:8080/"
        },
        "id": "sMq6Bfj0fcCq",
        "outputId": "577e65a3-262a-4622-b182-aa85db1cfeea"
      },
      "source": [
        "square_mat = np.array([\n",
        "    [1,2,5],\n",
        "    [3,3,8],\n",
        "    [6,1,2]\n",
        "])\n",
        "\n",
        "non_square_mat = np.array([\n",
        "     [1,2,5],\n",
        "     [3,3,8]                       \n",
        "])\n",
        "describe_mat(square_mat)\n",
        "describe_mat(non_square_mat)"
      ],
      "execution_count": 8,
      "outputs": [
        {
          "output_type": "stream",
          "name": "stdout",
          "text": [
            "Matrix:\n",
            "[[1 2 5]\n",
            " [3 3 8]\n",
            " [6 1 2]]\n",
            "\n",
            "Shape:\t(3, 3)\n",
            "Rank:\t2\n",
            "Is Square:True\n",
            "\n",
            "Matrix:\n",
            "[[1 2 5]\n",
            " [3 3 8]]\n",
            "\n",
            "Shape:\t(2, 3)\n",
            "Rank:\t2\n",
            "Is Square:False\n",
            "\n"
          ]
        }
      ]
    },
    {
      "cell_type": "markdown",
      "metadata": {
        "id": "AoV5RXrEfi7q"
      },
      "source": [
        "##Null Matrix\n",
        "The term \"null matrix\" refers to a matrix with no elements.\n",
        "Any vector or matrix is always a subspace of it. "
      ]
    },
    {
      "cell_type": "code",
      "metadata": {
        "id": "0gncf5yTflI5"
      },
      "source": [
        "def describe_mat(matrix):\n",
        "  if matrix.size < 0:\n",
        "    is_square = True if matrix.shape[0] == matrix.shape[1] else False\n",
        "    print(f'Matrix:\\n{matrix}\\n\\nShape:\\t{matrix.shape}\\nRank:\\t{matrix.ndim}\\nIs Square:{is_square}\\n')\n",
        "  else:\n",
        "    print('Matrix is Null')"
      ],
      "execution_count": 9,
      "outputs": []
    },
    {
      "cell_type": "code",
      "metadata": {
        "colab": {
          "base_uri": "https://localhost:8080/"
        },
        "id": "zHg85z5cfosz",
        "outputId": "3f963f07-3cf3-4d4b-923c-f4ba046e42a0"
      },
      "source": [
        "null_mat = np.array([])\n",
        "describe_mat(null_mat)"
      ],
      "execution_count": 10,
      "outputs": [
        {
          "output_type": "stream",
          "name": "stdout",
          "text": [
            "Matrix is Null\n"
          ]
        }
      ]
    },
    {
      "cell_type": "markdown",
      "metadata": {
        "id": "E_c051iJfsRK"
      },
      "source": [
        "##Zero Matrix\n",
        "A zero matrix can be any rectangular matrix with a value of 0 for all of its entries. "
      ]
    },
    {
      "cell_type": "code",
      "metadata": {
        "colab": {
          "base_uri": "https://localhost:8080/"
        },
        "id": "JWR2q9BkfvDa",
        "outputId": "5e7f1589-6028-4ef0-fb11-759df3246247"
      },
      "source": [
        "zero_mat_row = np.zeros((1,2))\n",
        "zero_mat_sqr = np.zeros((2,2))\n",
        "zero_mat_rct = np.zeros((3,2))\n",
        "\n",
        "print(f'zero Row Matrix: \\n{zero_mat_row}')\n",
        "print(f'zero Row Matrix: \\n{zero_mat_sqr}')\n",
        "print(f'zero Row Matrix: \\n{zero_mat_rct}')"
      ],
      "execution_count": 11,
      "outputs": [
        {
          "output_type": "stream",
          "name": "stdout",
          "text": [
            "zero Row Matrix: \n",
            "[[0. 0.]]\n",
            "zero Row Matrix: \n",
            "[[0. 0.]\n",
            " [0. 0.]]\n",
            "zero Row Matrix: \n",
            "[[0. 0.]\n",
            " [0. 0.]\n",
            " [0. 0.]]\n"
          ]
        }
      ]
    },
    {
      "cell_type": "markdown",
      "metadata": {
        "id": "XyXv0Wtof-5y"
      },
      "source": [
        "##Ones Matrix\n",
        "A ones matrix, like a zero matrix, can be any rectangular matrix with 1s instead of 0s in all of its members. "
      ]
    },
    {
      "cell_type": "code",
      "metadata": {
        "colab": {
          "base_uri": "https://localhost:8080/"
        },
        "id": "dMRcDUI2f0l7",
        "outputId": "10ab29b0-eef7-4274-d6ec-95db25d98884"
      },
      "source": [
        "zero_mat_row = np.ones((1,2))\n",
        "zero_mat_sqr = np.ones((2,2))\n",
        "zero_mat_rct = np.ones((3,2))\n",
        "\n",
        "print(f'zero Row Matrix: \\n{zero_mat_row}')\n",
        "print(f'zero Row Matrix: \\n{zero_mat_sqr}')\n",
        "print(f'zero Row Matrix: \\n{zero_mat_rct}')"
      ],
      "execution_count": 12,
      "outputs": [
        {
          "output_type": "stream",
          "name": "stdout",
          "text": [
            "zero Row Matrix: \n",
            "[[1. 1.]]\n",
            "zero Row Matrix: \n",
            "[[1. 1.]\n",
            " [1. 1.]]\n",
            "zero Row Matrix: \n",
            "[[1. 1.]\n",
            " [1. 1.]\n",
            " [1. 1.]]\n"
          ]
        }
      ]
    },
    {
      "cell_type": "markdown",
      "metadata": {
        "id": "-0J6P1UKf6Ki"
      },
      "source": [
        "##Diagonal Matrices\n",
        "A diagonal matrix is a square matrix that only has values along its diagonal. "
      ]
    },
    {
      "cell_type": "code",
      "metadata": {
        "colab": {
          "base_uri": "https://localhost:8080/"
        },
        "id": "YMplK3fCgH0y",
        "outputId": "4707cb08-a8f6-4f07-e4ea-4f0b06c5fb18"
      },
      "source": [
        "np.array([\n",
        "      [2,0,0],\n",
        "      [0,3,0],\n",
        "      [0,0,5]\n",
        "])"
      ],
      "execution_count": 13,
      "outputs": [
        {
          "output_type": "execute_result",
          "data": {
            "text/plain": [
              "array([[2, 0, 0],\n",
              "       [0, 3, 0],\n",
              "       [0, 0, 5]])"
            ]
          },
          "metadata": {},
          "execution_count": 13
        }
      ]
    },
    {
      "cell_type": "markdown",
      "metadata": {
        "id": "tNaHaNAhgMvC"
      },
      "source": [
        "##Identity\n",
        "An identity matrix is a type of diagonal matrix in which the diagonal values are all ones. "
      ]
    },
    {
      "cell_type": "code",
      "metadata": {
        "colab": {
          "base_uri": "https://localhost:8080/"
        },
        "id": "s9P_2Z2bgPmB",
        "outputId": "ac76f749-d9c6-47f1-f045-ef70fa6da140"
      },
      "source": [
        "np.eye(5)"
      ],
      "execution_count": 14,
      "outputs": [
        {
          "output_type": "execute_result",
          "data": {
            "text/plain": [
              "array([[1., 0., 0., 0., 0.],\n",
              "       [0., 1., 0., 0., 0.],\n",
              "       [0., 0., 1., 0., 0.],\n",
              "       [0., 0., 0., 1., 0.],\n",
              "       [0., 0., 0., 0., 1.]])"
            ]
          },
          "metadata": {},
          "execution_count": 14
        }
      ]
    },
    {
      "cell_type": "markdown",
      "metadata": {
        "id": "ldMec1RngTb6"
      },
      "source": [
        "#Upper Triangular\n",
        "A matrix with no values below the diagonal is known as an upper triangular matrix. "
      ]
    },
    {
      "cell_type": "code",
      "metadata": {
        "colab": {
          "base_uri": "https://localhost:8080/"
        },
        "id": "mF1c4q4cgVTk",
        "outputId": "937d000d-d55e-409f-fb11-bc7594555526"
      },
      "source": [
        "np.array([\n",
        "      [2,1,3],\n",
        "      [0,3,1],\n",
        "      [0,0,5]\n",
        "])"
      ],
      "execution_count": 15,
      "outputs": [
        {
          "output_type": "execute_result",
          "data": {
            "text/plain": [
              "array([[2, 1, 3],\n",
              "       [0, 3, 1],\n",
              "       [0, 0, 5]])"
            ]
          },
          "metadata": {},
          "execution_count": 15
        }
      ]
    },
    {
      "cell_type": "markdown",
      "metadata": {
        "id": "eKr6plOsgXud"
      },
      "source": [
        "##Lower Triangular\n",
        "A matrix with no values above the diagonal is known as a lower triangular matrix. "
      ]
    },
    {
      "cell_type": "code",
      "metadata": {
        "colab": {
          "base_uri": "https://localhost:8080/"
        },
        "id": "Tmita7CBgcQ6",
        "outputId": "5bdd6622-d8dc-4d1b-a442-27ec182fc8c0"
      },
      "source": [
        "np.array([\n",
        "      [5,0,0],\n",
        "      [1,3,0],\n",
        "      [1,2,3]\n",
        "])"
      ],
      "execution_count": 33,
      "outputs": [
        {
          "output_type": "execute_result",
          "data": {
            "text/plain": [
              "array([[5, 0, 0],\n",
              "       [1, 3, 0],\n",
              "       [1, 2, 3]])"
            ]
          },
          "metadata": {},
          "execution_count": 33
        }
      ]
    },
    {
      "cell_type": "markdown",
      "metadata": {
        "id": "B5acn0uDFiK0"
      },
      "source": [
        "##Practice\n",
        "1. Given the system of linear combinations below, try to encode it as a matrix. Also describe the matrix.\n",
        "\n",
        "$$ A = \\left\\{\\begin{array} 5x_1 + 2x_2 +x_3\\\\ 4x_2 - x_3\\\\ 10x_3 \\end{array}\\right. $$\n",
        "\n",
        "1. Given the matrix below, express it as a linear combination in a markdown.\n"
      ]
    },
    {
      "cell_type": "code",
      "metadata": {
        "id": "eSHIqSyfGS71"
      },
      "source": [
        "G = np.array([\n",
        "    [1,7,8],\n",
        "    [2,2,2],\n",
        "    [4,6,7]\n",
        "])"
      ],
      "execution_count": 34,
      "outputs": []
    },
    {
      "cell_type": "markdown",
      "metadata": {
        "id": "op5xVDm5GWU8"
      },
      "source": [
        "1. Given the matrix below, display the output as a LaTeX makdown also express it as a system of linear combinations."
      ]
    },
    {
      "cell_type": "code",
      "metadata": {
        "colab": {
          "base_uri": "https://localhost:8080/"
        },
        "id": "Vf_n2EdcGaD1",
        "outputId": "26b31577-391e-487d-925a-0994b6cc5fba"
      },
      "source": [
        "H = np.tril(G)\n",
        "H"
      ],
      "execution_count": 35,
      "outputs": [
        {
          "output_type": "execute_result",
          "data": {
            "text/plain": [
              "array([[1, 0, 0],\n",
              "       [2, 2, 0],\n",
              "       [4, 6, 7]])"
            ]
          },
          "metadata": {},
          "execution_count": 35
        }
      ]
    },
    {
      "cell_type": "code",
      "metadata": {
        "colab": {
          "base_uri": "https://localhost:8080/"
        },
        "id": "PG_q-2NTglS6",
        "outputId": "090b2770-2d69-43ce-8042-d6c742f99717"
      },
      "source": [
        "np.array([\n",
        "    [1, 3, -4]\n",
        "])\n"
      ],
      "execution_count": 36,
      "outputs": [
        {
          "output_type": "execute_result",
          "data": {
            "text/plain": [
              "array([[ 1,  3, -4]])"
            ]
          },
          "metadata": {},
          "execution_count": 36
        }
      ]
    },
    {
      "cell_type": "markdown",
      "metadata": {
        "id": "C_F0KCl1hFLy"
      },
      "source": [
        "$$\n",
        "\n",
        "\n",
        "\n",
        "G = \\left\\{\n",
        "    \\begin{array}\\\n",
        "        x_1 + 7x_2 + 8x_3\\\\ \n",
        "        2x_1 + 2x_2 + 2x_3\\\\\n",
        "        4x_1 + 6x_2 + 7_3\n",
        "    \\end{array}\n",
        "\\right.$$"
      ]
    },
    {
      "cell_type": "markdown",
      "metadata": {
        "id": "PFfkvZUOhSnx"
      },
      "source": [
        "G = \\begin{bmatrix} 1 & 7 & 8 \\\\ 2 & 2 & 2 \\\\ 4 & 6 & 7\\end{bmatrix}"
      ]
    },
    {
      "cell_type": "markdown",
      "metadata": {
        "id": "0h46IbL3hjkC"
      },
      "source": [
        "##Matrix Algebra\n",
        "\n"
      ]
    },
    {
      "cell_type": "markdown",
      "metadata": {
        "id": "9ZoWQHjSG11t"
      },
      "source": [
        "**Addition**"
      ]
    },
    {
      "cell_type": "code",
      "metadata": {
        "colab": {
          "base_uri": "https://localhost:8080/"
        },
        "id": "yW98pfVLhuYi",
        "outputId": "57add6c5-42a0-487e-888e-a1c92f8367ca"
      },
      "source": [
        "A = np.array([\n",
        "    [1,2],\n",
        "    [2,3],\n",
        "    [4,1]\n",
        "])\n",
        "\n",
        "B = np.array([\n",
        "    [2,2],\n",
        "    [0,0],\n",
        "    [1,1]          \n",
        "])\n",
        "\n",
        "A+B"
      ],
      "execution_count": 37,
      "outputs": [
        {
          "output_type": "execute_result",
          "data": {
            "text/plain": [
              "array([[3, 4],\n",
              "       [2, 3],\n",
              "       [5, 2]])"
            ]
          },
          "metadata": {},
          "execution_count": 37
        }
      ]
    },
    {
      "cell_type": "code",
      "metadata": {
        "colab": {
          "base_uri": "https://localhost:8080/"
        },
        "id": "3W1dviZxh2Ya",
        "outputId": "ba5719ce-1b07-4148-c82c-e178ba01b187"
      },
      "source": [
        "2+A "
      ],
      "execution_count": 38,
      "outputs": [
        {
          "output_type": "execute_result",
          "data": {
            "text/plain": [
              "array([[3, 4],\n",
              "       [4, 5],\n",
              "       [6, 3]])"
            ]
          },
          "metadata": {},
          "execution_count": 38
        }
      ]
    },
    {
      "cell_type": "code",
      "metadata": {
        "colab": {
          "base_uri": "https://localhost:8080/"
        },
        "id": "WCioFb20iCu6",
        "outputId": "b584fbc5-220b-4582-e4b5-32e806700936"
      },
      "source": [
        "2*np.ones(A.shape)+A"
      ],
      "execution_count": 39,
      "outputs": [
        {
          "output_type": "execute_result",
          "data": {
            "text/plain": [
              "array([[3., 4.],\n",
              "       [4., 5.],\n",
              "       [6., 3.]])"
            ]
          },
          "metadata": {},
          "execution_count": 39
        }
      ]
    },
    {
      "cell_type": "code",
      "metadata": {
        "colab": {
          "base_uri": "https://localhost:8080/"
        },
        "id": "niQPYiRMiGnT",
        "outputId": "78f0bc56-9e7b-4831-ea7e-e3ff7f968394"
      },
      "source": [
        "2*np.ones(A.shape)+A == 2+A "
      ],
      "execution_count": 40,
      "outputs": [
        {
          "output_type": "execute_result",
          "data": {
            "text/plain": [
              "array([[ True,  True],\n",
              "       [ True,  True],\n",
              "       [ True,  True]])"
            ]
          },
          "metadata": {},
          "execution_count": 40
        }
      ]
    },
    {
      "cell_type": "markdown",
      "metadata": {
        "id": "en5EXuckHQld"
      },
      "source": [
        "**Subtraction**"
      ]
    },
    {
      "cell_type": "code",
      "metadata": {
        "colab": {
          "base_uri": "https://localhost:8080/"
        },
        "id": "k-iA4tDIHJnl",
        "outputId": "dad4822c-9939-489c-95c2-56d3ec1527c0"
      },
      "source": [
        "A-B"
      ],
      "execution_count": 41,
      "outputs": [
        {
          "output_type": "execute_result",
          "data": {
            "text/plain": [
              "array([[-1,  0],\n",
              "       [ 2,  3],\n",
              "       [ 3,  0]])"
            ]
          },
          "metadata": {},
          "execution_count": 41
        }
      ]
    },
    {
      "cell_type": "code",
      "metadata": {
        "colab": {
          "base_uri": "https://localhost:8080/"
        },
        "id": "v6Q2IypaiNlr",
        "outputId": "67bc01c6-912a-4efd-8df1-01ca7a60c963"
      },
      "source": [
        "3-B"
      ],
      "execution_count": 42,
      "outputs": [
        {
          "output_type": "execute_result",
          "data": {
            "text/plain": [
              "array([[1, 1],\n",
              "       [3, 3],\n",
              "       [2, 2]])"
            ]
          },
          "metadata": {},
          "execution_count": 42
        }
      ]
    },
    {
      "cell_type": "markdown",
      "metadata": {
        "id": "1YCwXixAjGcq"
      },
      "source": [
        "##Element Wise Multiplication"
      ]
    },
    {
      "cell_type": "code",
      "metadata": {
        "colab": {
          "base_uri": "https://localhost:8080/"
        },
        "id": "LxtzRIQcjLhZ",
        "outputId": "cd19ceca-ab11-4549-c7d6-4c98fe09bcaf"
      },
      "source": [
        "A*B"
      ],
      "execution_count": 43,
      "outputs": [
        {
          "output_type": "execute_result",
          "data": {
            "text/plain": [
              "array([[2, 4],\n",
              "       [0, 0],\n",
              "       [4, 1]])"
            ]
          },
          "metadata": {},
          "execution_count": 43
        }
      ]
    },
    {
      "cell_type": "code",
      "metadata": {
        "colab": {
          "base_uri": "https://localhost:8080/"
        },
        "id": "kQrbvnsYHtjW",
        "outputId": "a13875ea-052a-4bb4-c8f1-500ed473124e"
      },
      "source": [
        "2*A"
      ],
      "execution_count": 44,
      "outputs": [
        {
          "output_type": "execute_result",
          "data": {
            "text/plain": [
              "array([[2, 4],\n",
              "       [4, 6],\n",
              "       [8, 2]])"
            ]
          },
          "metadata": {},
          "execution_count": 44
        }
      ]
    },
    {
      "cell_type": "code",
      "metadata": {
        "colab": {
          "base_uri": "https://localhost:8080/"
        },
        "id": "Hnja12pNjymD",
        "outputId": "c65f7a84-032f-4f3f-fff8-e4930cde2bc2"
      },
      "source": [
        "A/B"
      ],
      "execution_count": 45,
      "outputs": [
        {
          "output_type": "stream",
          "name": "stderr",
          "text": [
            "/usr/local/lib/python3.7/dist-packages/ipykernel_launcher.py:1: RuntimeWarning: divide by zero encountered in true_divide\n",
            "  \"\"\"Entry point for launching an IPython kernel.\n"
          ]
        },
        {
          "output_type": "execute_result",
          "data": {
            "text/plain": [
              "array([[0.5, 1. ],\n",
              "       [inf, inf],\n",
              "       [4. , 1. ]])"
            ]
          },
          "metadata": {},
          "execution_count": 45
        }
      ]
    },
    {
      "cell_type": "code",
      "metadata": {
        "colab": {
          "base_uri": "https://localhost:8080/"
        },
        "id": "tnQIvxr5j9UK",
        "outputId": "0d448fda-d4ed-4792-91fa-3597859d084e"
      },
      "source": [
        "alpha = 10**-10\n",
        "A/(alpha+B)"
      ],
      "execution_count": 46,
      "outputs": [
        {
          "output_type": "execute_result",
          "data": {
            "text/plain": [
              "array([[5.e-01, 1.e+00],\n",
              "       [2.e+10, 3.e+10],\n",
              "       [4.e+00, 1.e+00]])"
            ]
          },
          "metadata": {},
          "execution_count": 46
        }
      ]
    },
    {
      "cell_type": "code",
      "metadata": {
        "colab": {
          "base_uri": "https://localhost:8080/"
        },
        "id": "orta8tMykATR",
        "outputId": "eed746a9-f6f2-41ab-df62-cd791230ae16"
      },
      "source": [
        "np.add(A,B)"
      ],
      "execution_count": 47,
      "outputs": [
        {
          "output_type": "execute_result",
          "data": {
            "text/plain": [
              "array([[3, 4],\n",
              "       [2, 3],\n",
              "       [5, 2]])"
            ]
          },
          "metadata": {},
          "execution_count": 47
        }
      ]
    },
    {
      "cell_type": "markdown",
      "metadata": {
        "id": "XNZlauF8kEGr"
      },
      "source": [
        "##Activity\n",
        "**Task 1**\n",
        "Create a function named mat_desc() that througouhly describes a matrix, it should:\n",
        "\n",
        "\n",
        "\n",
        "\n",
        "1.   Displays the shape, size, and rank of the matrix\n",
        "2.   Displays whether the matrix is square or non-square. \n",
        "3.   Displays whether the matrix is an empty matrix. \n",
        "4.   Displays if the matrix is an identity, ones, or zeros matrix.\n",
        "\n",
        "Use 5 sample matrices in which their shapes are not lower than $(3,3)$. In your methodology, create a flowchart discuss the functions and methods you have done. Present your results in the results section showing the description of each matrix you have declared.\n",
        "\n",
        "\n",
        "\n"
      ]
    },
    {
      "cell_type": "markdown",
      "metadata": {
        "id": "oSWdliixkXbB"
      },
      "source": [
        "##Task 1"
      ]
    },
    {
      "cell_type": "markdown",
      "metadata": {
        "id": "0WUiN6eUklL8"
      },
      "source": [
        "##Function area"
      ]
    },
    {
      "cell_type": "code",
      "metadata": {
        "id": "qjXgB1mKkoG7"
      },
      "source": [
        "def desc_mat(matrix):\n",
        "    print(f'Matrix:\\n{matrix}\\n\\nShape:\\t{matrix.shape}\\nRank:\\t{matrix.ndim}\\n')"
      ],
      "execution_count": 49,
      "outputs": []
    },
    {
      "cell_type": "markdown",
      "metadata": {
        "id": "TI9i8N8skpFZ"
      },
      "source": [
        "##Matrix Description"
      ]
    },
    {
      "cell_type": "code",
      "metadata": {
        "id": "RiF7qS1ykrV6"
      },
      "source": [
        "## Null Matrix\n",
        "null_mat = np.array([])"
      ],
      "execution_count": 50,
      "outputs": []
    },
    {
      "cell_type": "code",
      "metadata": {
        "id": "hRDG21GYFauo"
      },
      "source": [
        "## Zero Matrix\n",
        "zero_mat_sqr = np.zeros((4,4))"
      ],
      "execution_count": 51,
      "outputs": []
    },
    {
      "cell_type": "code",
      "metadata": {
        "id": "1FlbqB1jFene"
      },
      "source": [
        "## Ones Matrix\n",
        "ones_mat_sqr = np.ones((4,4))"
      ],
      "execution_count": 52,
      "outputs": []
    },
    {
      "cell_type": "code",
      "metadata": {
        "id": "P6s5IqvUFlhe"
      },
      "source": [
        "## Diagonal Matrix\n",
        "A = np.array([\n",
        "    [2, 0, 0],\n",
        "    [0, 9, 0],\n",
        "    [0, 0, 5]\n",
        "])"
      ],
      "execution_count": 53,
      "outputs": []
    },
    {
      "cell_type": "code",
      "metadata": {
        "id": "vbpVxommFsSt"
      },
      "source": [
        "## Identity Matrix\n",
        "# np.identity(3)"
      ],
      "execution_count": 54,
      "outputs": []
    },
    {
      "cell_type": "code",
      "metadata": {
        "id": "BzyPJthNFwqX"
      },
      "source": [
        "## Upper Triangular Matrix\n",
        "B = np.array([\n",
        "    [2, 3, 4],\n",
        "    [0, 7, 5],\n",
        "    [0, 0, 7]\n",
        "])"
      ],
      "execution_count": 55,
      "outputs": []
    },
    {
      "cell_type": "code",
      "metadata": {
        "id": "XuqI-nEfF2QW"
      },
      "source": [
        "#Lower Triangular Matrix\n",
        "C = np.array([\n",
        "    [2, 0, 0],\n",
        "    [9, 7, 0],\n",
        "    [5, 6, 7]\n",
        "])"
      ],
      "execution_count": 56,
      "outputs": []
    },
    {
      "cell_type": "markdown",
      "metadata": {
        "id": "vIo8vsLdk_sR"
      },
      "source": [
        "##Test Areas"
      ]
    },
    {
      "cell_type": "code",
      "metadata": {
        "id": "PrwHZVbKlCKb",
        "colab": {
          "base_uri": "https://localhost:8080/"
        },
        "outputId": "9d8cae00-d888-4d32-e0b6-f3ba27e56689"
      },
      "source": [
        "## Null Matrix\n",
        "desc_mat(null_mat)"
      ],
      "execution_count": 57,
      "outputs": [
        {
          "output_type": "stream",
          "name": "stdout",
          "text": [
            "Matrix:\n",
            "[]\n",
            "\n",
            "Shape:\t(0,)\n",
            "Rank:\t1\n",
            "\n"
          ]
        }
      ]
    },
    {
      "cell_type": "code",
      "metadata": {
        "colab": {
          "base_uri": "https://localhost:8080/"
        },
        "id": "YNEYEF3LGCG_",
        "outputId": "6b3558aa-857b-488b-db04-c1cf37b126aa"
      },
      "source": [
        "## Zero Matrix\n",
        "desc_mat(zero_mat_sqr)"
      ],
      "execution_count": 58,
      "outputs": [
        {
          "output_type": "stream",
          "name": "stdout",
          "text": [
            "Matrix:\n",
            "[[0. 0. 0. 0.]\n",
            " [0. 0. 0. 0.]\n",
            " [0. 0. 0. 0.]\n",
            " [0. 0. 0. 0.]]\n",
            "\n",
            "Shape:\t(4, 4)\n",
            "Rank:\t2\n",
            "\n"
          ]
        }
      ]
    },
    {
      "cell_type": "code",
      "metadata": {
        "colab": {
          "base_uri": "https://localhost:8080/"
        },
        "id": "HZF4S_xiGFgN",
        "outputId": "9374e318-eb41-48ed-f6dc-6d3dfcbf6a22"
      },
      "source": [
        "## Ones Matrix\n",
        "desc_mat(ones_mat_sqr)"
      ],
      "execution_count": 59,
      "outputs": [
        {
          "output_type": "stream",
          "name": "stdout",
          "text": [
            "Matrix:\n",
            "[[1. 1. 1. 1.]\n",
            " [1. 1. 1. 1.]\n",
            " [1. 1. 1. 1.]\n",
            " [1. 1. 1. 1.]]\n",
            "\n",
            "Shape:\t(4, 4)\n",
            "Rank:\t2\n",
            "\n"
          ]
        }
      ]
    },
    {
      "cell_type": "code",
      "metadata": {
        "colab": {
          "base_uri": "https://localhost:8080/"
        },
        "id": "vMs5bCLRGQd3",
        "outputId": "1e4083cd-cb1c-4964-d0a1-b982ea061a4b"
      },
      "source": [
        "## Diagonal Matrix\n",
        "desc_mat(A)"
      ],
      "execution_count": 60,
      "outputs": [
        {
          "output_type": "stream",
          "name": "stdout",
          "text": [
            "Matrix:\n",
            "[[2 0 0]\n",
            " [0 9 0]\n",
            " [0 0 5]]\n",
            "\n",
            "Shape:\t(3, 3)\n",
            "Rank:\t2\n",
            "\n"
          ]
        }
      ]
    },
    {
      "cell_type": "code",
      "metadata": {
        "colab": {
          "base_uri": "https://localhost:8080/"
        },
        "id": "nukM9EgGGT9N",
        "outputId": "f74cf074-347b-41a9-8783-0bb3ebcdc5f5"
      },
      "source": [
        "## Identity Matrix\n",
        "np.identity(3)"
      ],
      "execution_count": 61,
      "outputs": [
        {
          "output_type": "execute_result",
          "data": {
            "text/plain": [
              "array([[1., 0., 0.],\n",
              "       [0., 1., 0.],\n",
              "       [0., 0., 1.]])"
            ]
          },
          "metadata": {},
          "execution_count": 61
        }
      ]
    },
    {
      "cell_type": "code",
      "metadata": {
        "colab": {
          "base_uri": "https://localhost:8080/"
        },
        "id": "gCLYpBReGXDE",
        "outputId": "a367adcd-1450-401b-8337-f82ff371b2fb"
      },
      "source": [
        "## Upper Triangular Matrix\n",
        "desc_mat(B)"
      ],
      "execution_count": 62,
      "outputs": [
        {
          "output_type": "stream",
          "name": "stdout",
          "text": [
            "Matrix:\n",
            "[[2 3 4]\n",
            " [0 7 5]\n",
            " [0 0 7]]\n",
            "\n",
            "Shape:\t(3, 3)\n",
            "Rank:\t2\n",
            "\n"
          ]
        }
      ]
    },
    {
      "cell_type": "code",
      "metadata": {
        "colab": {
          "base_uri": "https://localhost:8080/"
        },
        "id": "WqcvxQxrGZpP",
        "outputId": "0dd0877a-a81d-48c4-dcb8-1a3a1dbebf6d"
      },
      "source": [
        "#Lower Triangular Matrix\n",
        "desc_mat(C)"
      ],
      "execution_count": 63,
      "outputs": [
        {
          "output_type": "stream",
          "name": "stdout",
          "text": [
            "Matrix:\n",
            "[[2 0 0]\n",
            " [9 7 0]\n",
            " [5 6 7]]\n",
            "\n",
            "Shape:\t(3, 3)\n",
            "Rank:\t2\n",
            "\n"
          ]
        }
      ]
    },
    {
      "cell_type": "markdown",
      "metadata": {
        "id": "H--tZRWwGkIw"
      },
      "source": [
        "###Task 2\n",
        "Create a function named `mat_operations()` that takes in two matrices a input parameters it should:<br>\n",
        " 1. Determines if the matrices are viable for operation and returns your own error message if they are not viable.\n",
        " 2. Returns the sum of the matrices.\n",
        " 3. Returns the differen of the matrices.\n",
        " 4. Returns the element-wise multiplication of the matrices.\n",
        " 5. Returns the element-wise division of the matrices.\n",
        "\n",
        "Use 5 sample matrices in which their shapes are not lower than $(3,3)$.\n",
        "In your methodology, create a flowchart discuss the functions and methods you have done. Present your results in the results section showing the description of each matrix you have declared.###Task 2"
      ]
    },
    {
      "cell_type": "markdown",
      "metadata": {
        "id": "T7VWyKw-KWr2"
      },
      "source": [
        "### Task 2"
      ]
    },
    {
      "cell_type": "markdown",
      "metadata": {
        "id": "3Xfql6qcHSDd"
      },
      "source": [
        "###Function Area"
      ]
    },
    {
      "cell_type": "code",
      "metadata": {
        "id": "ArHFqk8KHStm"
      },
      "source": [
        "def mat_operations(matrix):\n",
        "    print(f'Matrix:\\n{matrix}\\n\\nShape:\\t{matrix.shape}\\nRank:\\t{matrix.ndim}\\n')"
      ],
      "execution_count": 64,
      "outputs": []
    },
    {
      "cell_type": "markdown",
      "metadata": {
        "id": "KqmG-kJlHYEF"
      },
      "source": [
        "###Matrix Declaration"
      ]
    },
    {
      "cell_type": "code",
      "metadata": {
        "id": "002XSLLyHacH"
      },
      "source": [
        "## Addition\n",
        "A = np.array([\n",
        "    [2,4,7],\n",
        "    [2,3,9],\n",
        "    [4,3,8]\n",
        "])\n",
        "B = np.array([\n",
        "    [2,4,5],\n",
        "    [4,2,3],\n",
        "    [7,8,9]\n",
        "])"
      ],
      "execution_count": 65,
      "outputs": []
    },
    {
      "cell_type": "code",
      "metadata": {
        "id": "w99N5mtiIIMo"
      },
      "source": [
        "## Subtraction\n",
        "D = np.array([\n",
        "    [5,3,4],\n",
        "    [2,9,7],\n",
        "    [8,7,1]\n",
        "])\n",
        "E = np.array([\n",
        "    [2,5,6],\n",
        "    [5,3,7],\n",
        "    [2,8,9]\n",
        "])"
      ],
      "execution_count": 66,
      "outputs": []
    },
    {
      "cell_type": "code",
      "metadata": {
        "id": "QLuNjVSeITlV"
      },
      "source": [
        "## element-wise multiplication\n",
        "F = np.array([\n",
        "    [4,2,3],\n",
        "    [3,5,6],\n",
        "    [7,8,9]\n",
        "])\n",
        "G = np.array([\n",
        "    [3,4,6],\n",
        "    [2,5,9],\n",
        "    [1,4,8]\n",
        "])"
      ],
      "execution_count": 67,
      "outputs": []
    },
    {
      "cell_type": "code",
      "metadata": {
        "id": "w4CvJjbNIdQv"
      },
      "source": [
        "## element-wise division\n",
        "H = np.array([\n",
        "    [12,13,16],\n",
        "    [14,18,9],\n",
        "    [23,19,17]\n",
        "])\n",
        "I = np.array([\n",
        "    [2,7,6],\n",
        "    [4,4,4],\n",
        "    [8,9,3]\n",
        "])"
      ],
      "execution_count": 68,
      "outputs": []
    },
    {
      "cell_type": "markdown",
      "metadata": {
        "id": "AWsHn2VfIsh9"
      },
      "source": [
        "###Test Areas"
      ]
    },
    {
      "cell_type": "code",
      "metadata": {
        "colab": {
          "base_uri": "https://localhost:8080/"
        },
        "id": "0UERco4cIvNO",
        "outputId": "0d44b046-19e5-4d46-d8f3-7f8ec4e26e1f"
      },
      "source": [
        "## Addition\n",
        "C = A+B\n",
        "mat_operations(C)"
      ],
      "execution_count": 69,
      "outputs": [
        {
          "output_type": "stream",
          "name": "stdout",
          "text": [
            "Matrix:\n",
            "[[ 4  8 12]\n",
            " [ 6  5 12]\n",
            " [11 11 17]]\n",
            "\n",
            "Shape:\t(3, 3)\n",
            "Rank:\t2\n",
            "\n"
          ]
        }
      ]
    },
    {
      "cell_type": "code",
      "metadata": {
        "colab": {
          "base_uri": "https://localhost:8080/"
        },
        "id": "Mp0fQsY_I00O",
        "outputId": "f0e8d222-b27f-44b8-f936-30f7c8f0dc8f"
      },
      "source": [
        "np.add(A,B)"
      ],
      "execution_count": 70,
      "outputs": [
        {
          "output_type": "execute_result",
          "data": {
            "text/plain": [
              "array([[ 4,  8, 12],\n",
              "       [ 6,  5, 12],\n",
              "       [11, 11, 17]])"
            ]
          },
          "metadata": {},
          "execution_count": 70
        }
      ]
    },
    {
      "cell_type": "code",
      "metadata": {
        "colab": {
          "base_uri": "https://localhost:8080/"
        },
        "id": "xE6GkYiiI3wG",
        "outputId": "154390e2-b882-4712-f255-a1652d902844"
      },
      "source": [
        "## Subtraction\n",
        "S = D-E\n",
        "mat_operations(S)"
      ],
      "execution_count": 71,
      "outputs": [
        {
          "output_type": "stream",
          "name": "stdout",
          "text": [
            "Matrix:\n",
            "[[ 3 -2 -2]\n",
            " [-3  6  0]\n",
            " [ 6 -1 -8]]\n",
            "\n",
            "Shape:\t(3, 3)\n",
            "Rank:\t2\n",
            "\n"
          ]
        }
      ]
    },
    {
      "cell_type": "code",
      "metadata": {
        "colab": {
          "base_uri": "https://localhost:8080/"
        },
        "id": "3ZFig21SI7sd",
        "outputId": "5e46caeb-1311-40f3-ca27-309a1db245ad"
      },
      "source": [
        "np.subtract(D,E)"
      ],
      "execution_count": 72,
      "outputs": [
        {
          "output_type": "execute_result",
          "data": {
            "text/plain": [
              "array([[ 3, -2, -2],\n",
              "       [-3,  6,  0],\n",
              "       [ 6, -1, -8]])"
            ]
          },
          "metadata": {},
          "execution_count": 72
        }
      ]
    },
    {
      "cell_type": "code",
      "metadata": {
        "colab": {
          "base_uri": "https://localhost:8080/"
        },
        "id": "4UZRM0gqJAJW",
        "outputId": "c2410145-cacf-4b39-d2aa-7dce102b03a1"
      },
      "source": [
        "## element-wise multiplication\n",
        "M = F*G\n",
        "mat_operations(M)"
      ],
      "execution_count": 73,
      "outputs": [
        {
          "output_type": "stream",
          "name": "stdout",
          "text": [
            "Matrix:\n",
            "[[12  8 18]\n",
            " [ 6 25 54]\n",
            " [ 7 32 72]]\n",
            "\n",
            "Shape:\t(3, 3)\n",
            "Rank:\t2\n",
            "\n"
          ]
        }
      ]
    },
    {
      "cell_type": "code",
      "metadata": {
        "colab": {
          "base_uri": "https://localhost:8080/"
        },
        "id": "F_6NEjfMJErO",
        "outputId": "d1b13eaa-4b69-4c1a-da10-06a2aadd306f"
      },
      "source": [
        "np.multiply(F,G)"
      ],
      "execution_count": 74,
      "outputs": [
        {
          "output_type": "execute_result",
          "data": {
            "text/plain": [
              "array([[12,  8, 18],\n",
              "       [ 6, 25, 54],\n",
              "       [ 7, 32, 72]])"
            ]
          },
          "metadata": {},
          "execution_count": 74
        }
      ]
    },
    {
      "cell_type": "code",
      "metadata": {
        "colab": {
          "base_uri": "https://localhost:8080/"
        },
        "id": "-8V7w2wnJHUe",
        "outputId": "1f767785-bc14-4bca-e9a1-72d78ebbf97b"
      },
      "source": [
        "4*G"
      ],
      "execution_count": 75,
      "outputs": [
        {
          "output_type": "execute_result",
          "data": {
            "text/plain": [
              "array([[12, 16, 24],\n",
              "       [ 8, 20, 36],\n",
              "       [ 4, 16, 32]])"
            ]
          },
          "metadata": {},
          "execution_count": 75
        }
      ]
    },
    {
      "cell_type": "code",
      "metadata": {
        "colab": {
          "base_uri": "https://localhost:8080/"
        },
        "id": "JoSgB-pvJKWu",
        "outputId": "0ea34479-28ec-47a7-9711-41ab34cdcbe1"
      },
      "source": [
        "## element-wise division\n",
        "V = H/I\n",
        "mat_operations(V)"
      ],
      "execution_count": 76,
      "outputs": [
        {
          "output_type": "stream",
          "name": "stdout",
          "text": [
            "Matrix:\n",
            "[[6.         1.85714286 2.66666667]\n",
            " [3.5        4.5        2.25      ]\n",
            " [2.875      2.11111111 5.66666667]]\n",
            "\n",
            "Shape:\t(3, 3)\n",
            "Rank:\t2\n",
            "\n"
          ]
        }
      ]
    },
    {
      "cell_type": "code",
      "metadata": {
        "colab": {
          "base_uri": "https://localhost:8080/"
        },
        "id": "ecAJRiH7JPid",
        "outputId": "f7774a35-5563-4ea6-e291-e005eef07b59"
      },
      "source": [
        "np.divide(H,I)"
      ],
      "execution_count": 77,
      "outputs": [
        {
          "output_type": "execute_result",
          "data": {
            "text/plain": [
              "array([[6.        , 1.85714286, 2.66666667],\n",
              "       [3.5       , 4.5       , 2.25      ],\n",
              "       [2.875     , 2.11111111, 5.66666667]])"
            ]
          },
          "metadata": {},
          "execution_count": 77
        }
      ]
    },
    {
      "cell_type": "code",
      "metadata": {
        "colab": {
          "base_uri": "https://localhost:8080/"
        },
        "id": "IS5Jl0KxJSdd",
        "outputId": "780cebc9-aa86-4a85-813a-80142392ae03"
      },
      "source": [
        "H/5"
      ],
      "execution_count": 78,
      "outputs": [
        {
          "output_type": "execute_result",
          "data": {
            "text/plain": [
              "array([[2.4, 2.6, 3.2],\n",
              "       [2.8, 3.6, 1.8],\n",
              "       [4.6, 3.8, 3.4]])"
            ]
          },
          "metadata": {},
          "execution_count": 78
        }
      ]
    },
    {
      "cell_type": "code",
      "metadata": {
        "colab": {
          "base_uri": "https://localhost:8080/"
        },
        "id": "NmtNzbHrJUvA",
        "outputId": "54a8c5f1-0ceb-4f48-fb37-05536f7769a3"
      },
      "source": [
        "1/I"
      ],
      "execution_count": 79,
      "outputs": [
        {
          "output_type": "execute_result",
          "data": {
            "text/plain": [
              "array([[0.5       , 0.14285714, 0.16666667],\n",
              "       [0.25      , 0.25      , 0.25      ],\n",
              "       [0.125     , 0.11111111, 0.33333333]])"
            ]
          },
          "metadata": {},
          "execution_count": 79
        }
      ]
    },
    {
      "cell_type": "markdown",
      "metadata": {
        "id": "3Zg_CVvdj2W4"
      },
      "source": [
        "## Conclusion\n",
        "In conclusion, in matrix we are presently utilizing is advantageous and incredible in information assortment and mathematical analysis. They are utilized as a method of giving speedy approximations of more muddled computations. In applications, for example, picture preparing and hereditary examination, PCs might increase matrix to address matrices of linear equations. Aside from concurrent equations,the properties of matrices are valuable in programming, where we use an array, which is a matrix to store information. Initially, they were made to depict frameworks of linear equations. PCs can duplicate frameworks to tackle frameworks of direct conditions in applications like picture handling and hereditary exploration. They're utilized to surmised more modern computations rapidly. It is useful for us, ECE students for the future ahead us, because is is for us to have the option to reduce the time we burn-through on one assignment. So, it is extremely useful to make the work simple. "
      ]
    }
  ]
}